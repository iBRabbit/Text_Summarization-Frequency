{
  "cells": [
    {
      "cell_type": "markdown",
      "metadata": {
        "colab_type": "text",
        "id": "WYdMwvYn42jw"
      },
      "source": [
        "# **Text Summarization using NLP**\n",
        "\n",
        "\n",
        "**What is text summarization?**\n",
        "\n",
        "Text summarization is the process of distilling the most important information from a source text."
      ]
    },
    {
      "cell_type": "markdown",
      "metadata": {
        "colab_type": "text",
        "id": "QSmeHW7R6FEF"
      },
      "source": [
        "**Why automatic text summarization?**\n",
        "\n",
        "\n",
        "\n",
        "1.   Summaries reduce reading time.\n",
        "2.   When researching documents,summaries make the  selection process easier.\n",
        "3.   Automatic summarization improves the effectiveness of indexing.\n",
        "4.   Automatice summarization algorithms are less biased than human summarization.\n",
        "5.   Personalized summaries are useful in question-answering systems as they provied personalized information.\n",
        "6.   Using automatic or semi-automatic summarization systems enables commercial abstract services to increase the number of text documents they are able to process.\n",
        "\n",
        "\n",
        "\n"
      ]
    },
    {
      "cell_type": "markdown",
      "metadata": {
        "colab_type": "text",
        "id": "ZU31cjFg83hu"
      },
      "source": [
        "# **Type of summarization**\n",
        "\n",
        "![alt text](https://drive.google.com/uc?id=1AqwSGEpi3vzAOLVt_5XXRXokZHvcn43B)"
      ]
    },
    {
      "cell_type": "markdown",
      "metadata": {
        "colab_type": "text",
        "id": "s9xxDWxC-1eM"
      },
      "source": [
        "\n",
        "\n",
        "**How to do text summarization**\n",
        "\n",
        "\n",
        "*   Text cleaning\n",
        "*   Sentence tokenization\n",
        "*   Word tokenzation\n",
        "*   Word-frequency table\n",
        "*   Summarization \n",
        " \n",
        " \n",
        "\n",
        "  **Text variable**\n",
        "\n",
        "\n",
        "\n",
        "\n",
        "\n",
        "\n"
      ]
    },
    {
      "cell_type": "markdown",
      "metadata": {
        "colab_type": "text",
        "id": "rOfW0xVd-tWw"
      },
      "source": []
    },
    {
      "cell_type": "code",
      "execution_count": 65,
      "metadata": {
        "colab": {},
        "colab_type": "code",
        "id": "2JqLo7pWYD1o"
      },
      "outputs": [],
      "source": [
        " text = '''Santiago is a Shepherd who has a recurring dream which is supposedly prophetic. Inspired on learning this, he undertakes a journey to Egypt to discover the meaning of life and fulfill his destiny. During the course of his travels, he learns of his true purpose and meets many characters, including an “Alchemist”, that teach him valuable lessons about achieving his dreams. Santiago sets his sights on obtaining a certain kind of “treasure” for which he travels to Egypt. The key message is, “when you want something, all the universe conspires in helping you to achieve it.” Towards the final arc, Santiago gets robbed by bandits who end up revealing that the “treasure” he was looking for is buried in the place where his journey began. The end.'''"
      ]
    },
    {
      "cell_type": "markdown",
      "metadata": {
        "colab_type": "text",
        "id": "ICuVSNbQY-dO"
      },
      "source": [
        "\n",
        "\n",
        "# Let's Get Started with SpaCy"
      ]
    },
    {
      "cell_type": "code",
      "execution_count": 66,
      "metadata": {
        "colab": {},
        "colab_type": "code",
        "id": "6Ehfk3s8ZL0b"
      },
      "outputs": [],
      "source": [
        "# !pip instlla -U spacy\n",
        "# !python -m spacy download en_core_web_sm"
      ]
    },
    {
      "cell_type": "code",
      "execution_count": 67,
      "metadata": {
        "colab": {},
        "colab_type": "code",
        "id": "gT1zyYMnZguO"
      },
      "outputs": [],
      "source": [
        "import spacy\n",
        "from spacy.lang.en.stop_words import STOP_WORDS\n",
        "from string import punctuation"
      ]
    },
    {
      "cell_type": "code",
      "execution_count": 68,
      "metadata": {
        "colab": {},
        "colab_type": "code",
        "id": "JrR_ipOKZ4Lp"
      },
      "outputs": [],
      "source": [
        "stopwords = list(STOP_WORDS)"
      ]
    },
    {
      "cell_type": "code",
      "execution_count": 69,
      "metadata": {},
      "outputs": [
        {
          "name": "stdout",
          "output_type": "stream",
          "text": [
            "\n",
            "✘ No compatible package found for 'en_core_web_en' (spaCy v3.0.9)\n",
            "\n"
          ]
        },
        {
          "name": "stderr",
          "output_type": "stream",
          "text": [
            "2023-02-18 23:51:11.899961: W tensorflow/stream_executor/platform/default/dso_loader.cc:64] Could not load dynamic library 'cudart64_110.dll'; dlerror: cudart64_110.dll not found\n",
            "2023-02-18 23:51:11.901319: I tensorflow/stream_executor/cuda/cudart_stub.cc:29] Ignore above cudart dlerror if you do not have a GPU set up on your machine.\n"
          ]
        }
      ],
      "source": [
        "!python -m spacy download en_core_web_en"
      ]
    },
    {
      "cell_type": "code",
      "execution_count": 70,
      "metadata": {
        "colab": {},
        "colab_type": "code",
        "id": "PrE3D0S6aC_s"
      },
      "outputs": [],
      "source": [
        "# !pip install https://github.com/explosion/spacy-models/releases/download/en_core_web_sm-3.0.0/en_core_web_sm-3.0.0.tar.gz\n",
        "nlp = spacy.load('en_core_web_sm')"
      ]
    },
    {
      "cell_type": "code",
      "execution_count": 71,
      "metadata": {
        "colab": {},
        "colab_type": "code",
        "id": "RntMWU8DaQDm"
      },
      "outputs": [],
      "source": [
        "doc = nlp(text)"
      ]
    },
    {
      "cell_type": "code",
      "execution_count": 72,
      "metadata": {
        "colab": {
          "base_uri": "https://localhost:8080/",
          "height": 54
        },
        "colab_type": "code",
        "id": "Pqre-o8AaXRA",
        "outputId": "b300f8b7-9437-49f2-81f3-08620d946c1e"
      },
      "outputs": [
        {
          "name": "stdout",
          "output_type": "stream",
          "text": [
            "['Santiago', 'is', 'a', 'Shepherd', 'who', 'has', 'a', 'recurring', 'dream', 'which', 'is', 'supposedly', 'prophetic', '.', 'Inspired', 'on', 'learning', 'this', ',', 'he', 'undertakes', 'a', 'journey', 'to', 'Egypt', 'to', 'discover', 'the', 'meaning', 'of', 'life', 'and', 'fulfill', 'his', 'destiny', '.', 'During', 'the', 'course', 'of', 'his', 'travels', ',', 'he', 'learns', 'of', 'his', 'true', 'purpose', 'and', 'meets', 'many', 'characters', ',', 'including', 'an', '“', 'Alchemist', '”', ',', 'that', 'teach', 'him', 'valuable', 'lessons', 'about', 'achieving', 'his', 'dreams', '.', 'Santiago', 'sets', 'his', 'sights', 'on', 'obtaining', 'a', 'certain', 'kind', 'of', '“', 'treasure', '”', 'for', 'which', 'he', 'travels', 'to', 'Egypt', '.', 'The', 'key', 'message', 'is', ',', '“', 'when', 'you', 'want', 'something', ',', 'all', 'the', 'universe', 'conspires', 'in', 'helping', 'you', 'to', 'achieve', 'it', '.', '”', 'Towards', 'the', 'final', 'arc', ',', 'Santiago', 'gets', 'robbed', 'by', 'bandits', 'who', 'end', 'up', 'revealing', 'that', 'the', '“', 'treasure', '”', 'he', 'was', 'looking', 'for', 'is', 'buried', 'in', 'the', 'place', 'where', 'his', 'journey', 'began', '.', 'The', 'end', '.']\n"
          ]
        }
      ],
      "source": [
        "tokens = [token.text for token in doc]\n",
        "print(tokens)"
      ]
    },
    {
      "cell_type": "code",
      "execution_count": 73,
      "metadata": {
        "colab": {
          "base_uri": "https://localhost:8080/",
          "height": 34
        },
        "colab_type": "code",
        "id": "Tn2Uv-F3HDpw",
        "outputId": "6325b5fd-cc77-4ebd-bf7f-43ca48ed905a"
      },
      "outputs": [
        {
          "data": {
            "text/plain": [
              "'!\"#$%&\\'()*+,-./:;<=>?@[\\\\]^_`{|}~\\n'"
            ]
          },
          "execution_count": 73,
          "metadata": {},
          "output_type": "execute_result"
        }
      ],
      "source": [
        "punctuation = punctuation + '\\n'\n",
        "punctuation"
      ]
    },
    {
      "cell_type": "code",
      "execution_count": 74,
      "metadata": {
        "colab": {},
        "colab_type": "code",
        "id": "huSfsmdrWK84"
      },
      "outputs": [],
      "source": [
        "word_frequencies = {}\n",
        "for word in doc:\n",
        "  if word.text.lower() not in stopwords:\n",
        "    if word.text.lower() not in punctuation:\n",
        "      if word.text not in word_frequencies.keys():\n",
        "        word_frequencies[word.text] = 1\n",
        "      else:\n",
        "        word_frequencies[word.text] += 1"
      ]
    },
    {
      "cell_type": "code",
      "execution_count": 75,
      "metadata": {
        "colab": {
          "base_uri": "https://localhost:8080/",
          "height": 54
        },
        "colab_type": "code",
        "id": "EgiBcbxFXZj2",
        "outputId": "0e337628-198e-4ac5-fd31-3ac152800854"
      },
      "outputs": [
        {
          "name": "stdout",
          "output_type": "stream",
          "text": [
            "{'Santiago': 3, 'Shepherd': 1, 'recurring': 1, 'dream': 1, 'supposedly': 1, 'prophetic': 1, 'Inspired': 1, 'learning': 1, 'undertakes': 1, 'journey': 2, 'Egypt': 2, 'discover': 1, 'meaning': 1, 'life': 1, 'fulfill': 1, 'destiny': 1, 'course': 1, 'travels': 2, 'learns': 1, 'true': 1, 'purpose': 1, 'meets': 1, 'characters': 1, 'including': 1, '“': 4, 'Alchemist': 1, '”': 4, 'teach': 1, 'valuable': 1, 'lessons': 1, 'achieving': 1, 'dreams': 1, 'sets': 1, 'sights': 1, 'obtaining': 1, 'certain': 1, 'kind': 1, 'treasure': 2, 'key': 1, 'message': 1, 'want': 1, 'universe': 1, 'conspires': 1, 'helping': 1, 'achieve': 1, 'final': 1, 'arc': 1, 'gets': 1, 'robbed': 1, 'bandits': 1, 'end': 2, 'revealing': 1, 'looking': 1, 'buried': 1, 'place': 1, 'began': 1}\n"
          ]
        }
      ],
      "source": [
        "print(word_frequencies)"
      ]
    },
    {
      "cell_type": "code",
      "execution_count": 76,
      "metadata": {
        "colab": {},
        "colab_type": "code",
        "id": "59QpWTlkX6UC"
      },
      "outputs": [],
      "source": [
        "max_frequency = max(word_frequencies.values())"
      ]
    },
    {
      "cell_type": "code",
      "execution_count": 77,
      "metadata": {
        "colab": {
          "base_uri": "https://localhost:8080/",
          "height": 34
        },
        "colab_type": "code",
        "id": "oIQGF1vAYGoD",
        "outputId": "f72c0f9a-4d57-44bf-ca63-1a0fc8b87d3b"
      },
      "outputs": [
        {
          "data": {
            "text/plain": [
              "4"
            ]
          },
          "execution_count": 77,
          "metadata": {},
          "output_type": "execute_result"
        }
      ],
      "source": [
        "max_frequency"
      ]
    },
    {
      "cell_type": "code",
      "execution_count": 78,
      "metadata": {
        "colab": {},
        "colab_type": "code",
        "id": "Gx_S5rRXYX2H"
      },
      "outputs": [],
      "source": [
        "for word in word_frequencies.keys():\n",
        "  word_frequencies[word] = word_frequencies[word]/max_frequency"
      ]
    },
    {
      "cell_type": "code",
      "execution_count": 79,
      "metadata": {
        "colab": {
          "base_uri": "https://localhost:8080/",
          "height": 54
        },
        "colab_type": "code",
        "id": "H0QbAJA5YuG0",
        "outputId": "5816a67b-488e-43f5-c267-e51df1194828"
      },
      "outputs": [
        {
          "name": "stdout",
          "output_type": "stream",
          "text": [
            "{'Santiago': 0.75, 'Shepherd': 0.25, 'recurring': 0.25, 'dream': 0.25, 'supposedly': 0.25, 'prophetic': 0.25, 'Inspired': 0.25, 'learning': 0.25, 'undertakes': 0.25, 'journey': 0.5, 'Egypt': 0.5, 'discover': 0.25, 'meaning': 0.25, 'life': 0.25, 'fulfill': 0.25, 'destiny': 0.25, 'course': 0.25, 'travels': 0.5, 'learns': 0.25, 'true': 0.25, 'purpose': 0.25, 'meets': 0.25, 'characters': 0.25, 'including': 0.25, '“': 1.0, 'Alchemist': 0.25, '”': 1.0, 'teach': 0.25, 'valuable': 0.25, 'lessons': 0.25, 'achieving': 0.25, 'dreams': 0.25, 'sets': 0.25, 'sights': 0.25, 'obtaining': 0.25, 'certain': 0.25, 'kind': 0.25, 'treasure': 0.5, 'key': 0.25, 'message': 0.25, 'want': 0.25, 'universe': 0.25, 'conspires': 0.25, 'helping': 0.25, 'achieve': 0.25, 'final': 0.25, 'arc': 0.25, 'gets': 0.25, 'robbed': 0.25, 'bandits': 0.25, 'end': 0.5, 'revealing': 0.25, 'looking': 0.25, 'buried': 0.25, 'place': 0.25, 'began': 0.25}\n"
          ]
        }
      ],
      "source": [
        "print(word_frequencies)"
      ]
    },
    {
      "cell_type": "code",
      "execution_count": 80,
      "metadata": {
        "colab": {
          "base_uri": "https://localhost:8080/",
          "height": 224
        },
        "colab_type": "code",
        "id": "d9vbQAUDZCUV",
        "outputId": "f6586585-addb-46e3-8d4f-c8e38edb5baf"
      },
      "outputs": [
        {
          "name": "stdout",
          "output_type": "stream",
          "text": [
            "[Santiago is a Shepherd who has a recurring dream which is supposedly prophetic., Inspired on learning this, he undertakes a journey to Egypt to discover the meaning of life and fulfill his destiny., During the course of his travels, he learns of his true purpose and meets many characters, including an “Alchemist”, that teach him valuable lessons about achieving his dreams., Santiago sets his sights on obtaining a certain kind of “treasure” for which he travels to Egypt., The key message is, “when you want something, all the universe conspires in helping you to achieve it.”, Towards the final arc, Santiago gets robbed by bandits who end up revealing that the “treasure” he was looking for is buried in the place where his journey began., The end.]\n"
          ]
        }
      ],
      "source": [
        "sentence_tokens = [sent for sent in doc.sents]\n",
        "print(sentence_tokens)"
      ]
    },
    {
      "cell_type": "code",
      "execution_count": 81,
      "metadata": {
        "colab": {},
        "colab_type": "code",
        "id": "-3Ee54JWZk5G"
      },
      "outputs": [],
      "source": [
        "sentence_scores = {}\n",
        "for sent in sentence_tokens:\n",
        "  for word in sent:\n",
        "    if word.text.lower() in word_frequencies.keys():\n",
        "      if sent not in sentence_scores.keys():\n",
        "        sentence_scores[sent] = word_frequencies[word.text.lower()]\n",
        "      else:\n",
        "        sentence_scores[sent] += word_frequencies[word.text.lower()]\n"
      ]
    },
    {
      "cell_type": "code",
      "execution_count": 82,
      "metadata": {
        "colab": {
          "base_uri": "https://localhost:8080/",
          "height": 394
        },
        "colab_type": "code",
        "id": "eHuAYodnIg5I",
        "outputId": "5ad12dd5-1e46-4fc4-ef01-d3fd682bd359"
      },
      "outputs": [
        {
          "data": {
            "text/plain": [
              "{Santiago is a Shepherd who has a recurring dream which is supposedly prophetic.: 1.0,\n",
              " Inspired on learning this, he undertakes a journey to Egypt to discover the meaning of life and fulfill his destiny.: 2.25,\n",
              " During the course of his travels, he learns of his true purpose and meets many characters, including an “Alchemist”, that teach him valuable lessons about achieving his dreams.: 5.5,\n",
              " Santiago sets his sights on obtaining a certain kind of “treasure” for which he travels to Egypt.: 4.25,\n",
              " The key message is, “when you want something, all the universe conspires in helping you to achieve it.”: 3.75,\n",
              " Towards the final arc, Santiago gets robbed by bandits who end up revealing that the “treasure” he was looking for is buried in the place where his journey began.: 6.0,\n",
              " The end.: 0.5}"
            ]
          },
          "execution_count": 82,
          "metadata": {},
          "output_type": "execute_result"
        }
      ],
      "source": [
        "sentence_scores"
      ]
    },
    {
      "cell_type": "code",
      "execution_count": 83,
      "metadata": {
        "colab": {},
        "colab_type": "code",
        "id": "-8BICcjZJCpU"
      },
      "outputs": [],
      "source": [
        "from heapq import nlargest"
      ]
    },
    {
      "cell_type": "code",
      "execution_count": 84,
      "metadata": {
        "colab": {
          "base_uri": "https://localhost:8080/",
          "height": 34
        },
        "colab_type": "code",
        "id": "n7QOpoldJTcY",
        "outputId": "0c98ff90-aff9-4ad9-edc1-602b161a5b26"
      },
      "outputs": [
        {
          "data": {
            "text/plain": [
              "2"
            ]
          },
          "execution_count": 84,
          "metadata": {},
          "output_type": "execute_result"
        }
      ],
      "source": [
        "select_length = int(len(sentence_tokens)*0.3)\n",
        "select_length"
      ]
    },
    {
      "cell_type": "code",
      "execution_count": 85,
      "metadata": {
        "colab": {},
        "colab_type": "code",
        "id": "0qYYWV82JygM"
      },
      "outputs": [],
      "source": [
        "summary = nlargest(select_length, sentence_scores, key = sentence_scores.get)"
      ]
    },
    {
      "cell_type": "code",
      "execution_count": 86,
      "metadata": {
        "colab": {
          "base_uri": "https://localhost:8080/",
          "height": 156
        },
        "colab_type": "code",
        "id": "TR5wQN6UKDrt",
        "outputId": "82a53ef6-31ab-400e-a51e-b80a7fcfb443"
      },
      "outputs": [
        {
          "data": {
            "text/plain": [
              "[Towards the final arc, Santiago gets robbed by bandits who end up revealing that the “treasure” he was looking for is buried in the place where his journey began.,\n",
              " During the course of his travels, he learns of his true purpose and meets many characters, including an “Alchemist”, that teach him valuable lessons about achieving his dreams.]"
            ]
          },
          "execution_count": 86,
          "metadata": {},
          "output_type": "execute_result"
        }
      ],
      "source": [
        "summary"
      ]
    },
    {
      "cell_type": "code",
      "execution_count": 87,
      "metadata": {
        "colab": {},
        "colab_type": "code",
        "id": "k3cGqkqaKWnT"
      },
      "outputs": [],
      "source": [
        "final_summary = [word.text for word in summary]"
      ]
    },
    {
      "cell_type": "code",
      "execution_count": 88,
      "metadata": {
        "colab": {},
        "colab_type": "code",
        "id": "1pw4ElbUKpMB"
      },
      "outputs": [],
      "source": [
        "summary = ' '.join(final_summary)"
      ]
    },
    {
      "cell_type": "code",
      "execution_count": 89,
      "metadata": {
        "colab": {
          "base_uri": "https://localhost:8080/",
          "height": 224
        },
        "colab_type": "code",
        "id": "Wa66EgbzLIgR",
        "outputId": "a72e4c9e-697f-4ed1-d987-3e966a6ca086"
      },
      "outputs": [
        {
          "name": "stdout",
          "output_type": "stream",
          "text": [
            "Santiago is a Shepherd who has a recurring dream which is supposedly prophetic. Inspired on learning this, he undertakes a journey to Egypt to discover the meaning of life and fulfill his destiny. During the course of his travels, he learns of his true purpose and meets many characters, including an “Alchemist”, that teach him valuable lessons about achieving his dreams. Santiago sets his sights on obtaining a certain kind of “treasure” for which he travels to Egypt. The key message is, “when you want something, all the universe conspires in helping you to achieve it.” Towards the final arc, Santiago gets robbed by bandits who end up revealing that the “treasure” he was looking for is buried in the place where his journey began. The end.\n"
          ]
        }
      ],
      "source": [
        "print(text)"
      ]
    },
    {
      "cell_type": "code",
      "execution_count": 90,
      "metadata": {
        "colab": {
          "base_uri": "https://localhost:8080/",
          "height": 122
        },
        "colab_type": "code",
        "id": "no_-dxurKz1c",
        "outputId": "c3207863-71b2-40f0-b613-2694811d7933"
      },
      "outputs": [
        {
          "name": "stdout",
          "output_type": "stream",
          "text": [
            "Towards the final arc, Santiago gets robbed by bandits who end up revealing that the “treasure” he was looking for is buried in the place where his journey began. During the course of his travels, he learns of his true purpose and meets many characters, including an “Alchemist”, that teach him valuable lessons about achieving his dreams.\n"
          ]
        }
      ],
      "source": [
        "print(summary)"
      ]
    }
  ],
  "metadata": {
    "colab": {
      "name": "Text_Summarization.ipynb",
      "provenance": []
    },
    "kernelspec": {
      "display_name": "base",
      "language": "python",
      "name": "python3"
    },
    "language_info": {
      "codemirror_mode": {
        "name": "ipython",
        "version": 3
      },
      "file_extension": ".py",
      "mimetype": "text/x-python",
      "name": "python",
      "nbconvert_exporter": "python",
      "pygments_lexer": "ipython3",
      "version": "3.9.16"
    },
    "vscode": {
      "interpreter": {
        "hash": "690fcc030dbde6f3f652c519b06a0d95da528e66105ed58c88e506e5818277cb"
      }
    }
  },
  "nbformat": 4,
  "nbformat_minor": 0
}
